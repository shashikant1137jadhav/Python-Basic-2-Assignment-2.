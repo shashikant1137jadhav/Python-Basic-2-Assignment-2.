{
 "cells": [
  {
   "cell_type": "markdown",
   "id": "c3dadf7a",
   "metadata": {},
   "source": [
    "## 1.What are the two values of the Boolean data type? How do you write them?"
   ]
  },
  {
   "cell_type": "code",
   "execution_count": null,
   "id": "d83ade85",
   "metadata": {},
   "outputs": [],
   "source": [
    "The two values of the Boolean data type are either True or False\n",
    "and always write first letter is in capital letter i.e. T and F and remaining of them are written in lowercase\n",
    "\n"
   ]
  },
  {
   "cell_type": "markdown",
   "id": "d9070aab",
   "metadata": {},
   "source": [
    "## 2. What are the three different types of Boolean operators?"
   ]
  },
  {
   "cell_type": "code",
   "execution_count": null,
   "id": "e9ec78c8",
   "metadata": {},
   "outputs": [],
   "source": [
    "1) Comparison Operators\n",
    "                    Operator               Meaning\n",
    "                        ==                  is equal to\n",
    "                        !=                  is not equal to\n",
    "                        <                   is less than\n",
    "                        >                   is greater than\n",
    "                        <=                  is less than or equal to\n",
    "                        >=                  is greater than or equal to\n",
    "                        \n",
    "2) Logical Operators\n",
    "                     Operator               Meaning                               \n",
    "                       and                   True if both are true\n",
    "                       or                    True if at least one is true\n",
    "                       not                   True only if it's false"
   ]
  },
  {
   "cell_type": "markdown",
   "id": "259313e0",
   "metadata": {},
   "source": [
    "## 3. Make a list of each Boolean operator's truth tables (i.e. every possible combination of Boolean values for the operator and what it evaluate )."
   ]
  },
  {
   "cell_type": "code",
   "execution_count": null,
   "id": "8695c00b",
   "metadata": {},
   "outputs": [],
   "source": [
    "\n",
    "The possible combination for \"and\" \n",
    "\n",
    "                True  and True  is True.\n",
    "                True  and False is False.\n",
    "                False and True  is False.\n",
    "                False and False is False.\n",
    "\n",
    "The possible combination for \"or\" \n",
    "\n",
    "                True  or True  is True.\n",
    "                True  or False is True.\n",
    "                False or True  is True.\n",
    "                False or False is False.\n",
    "\n",
    "The possible combination for \"not\" \n",
    "\n",
    "                not True is False.\n",
    "                not False is True."
   ]
  },
  {
   "cell_type": "markdown",
   "id": "c7892c58",
   "metadata": {},
   "source": [
    "## 4. What are the values of the following expressions?\n",
    "(5 > 4) and (3 == 5)\n",
    "not (5 > 4)\n",
    "(5 > 4) or (3 == 5)\n",
    "not ((5 > 4) or (3 == 5))\n",
    "(True and True) and (True == False)\n",
    "(not False) or (not True)\n"
   ]
  },
  {
   "cell_type": "code",
   "execution_count": null,
   "id": "89039e7b",
   "metadata": {},
   "outputs": [],
   "source": [
    "(5 > 4) and (3 == 5)      >> True and False                 >>False"
   ]
  },
  {
   "cell_type": "code",
   "execution_count": null,
   "id": "c6ea85e6",
   "metadata": {},
   "outputs": [],
   "source": [
    "not (5 > 4)               >>not True                        >>False"
   ]
  },
  {
   "cell_type": "code",
   "execution_count": null,
   "id": "48de7a3d",
   "metadata": {},
   "outputs": [],
   "source": [
    "(5 > 4) or (3 == 5)       >>True or False                   >>True"
   ]
  },
  {
   "cell_type": "code",
   "execution_count": null,
   "id": "9882db27",
   "metadata": {},
   "outputs": [],
   "source": [
    "not ((5 > 4) or (3 == 5)) >>not True                       >>False"
   ]
  },
  {
   "cell_type": "code",
   "execution_count": null,
   "id": "1c792dec",
   "metadata": {},
   "outputs": [],
   "source": [
    "(True and True) and (True == False)                        >>False"
   ]
  },
  {
   "cell_type": "code",
   "execution_count": null,
   "id": "6f77b723",
   "metadata": {},
   "outputs": [],
   "source": [
    "(not False) or (not True)                                  >> True"
   ]
  },
  {
   "cell_type": "markdown",
   "id": "2f3d1c8b",
   "metadata": {},
   "source": [
    "## 5. What are the six comparison operators?"
   ]
  },
  {
   "cell_type": "code",
   "execution_count": null,
   "id": "c067ebea",
   "metadata": {},
   "outputs": [],
   "source": [
    "                      Operator               Meaning\n",
    "                        ==                  is equal to\n",
    "                        !=                  is not equal to\n",
    "                        <                   is less than\n",
    "                        >                   is greater than\n",
    "                        <=                  is less than or equal to\n",
    "                        >=                  is greater than or equal to"
   ]
  },
  {
   "cell_type": "markdown",
   "id": "0ef77e5d",
   "metadata": {},
   "source": [
    "## 6. How do you tell the difference between the equal to and assignment operators?Describe a condition and when you would use one."
   ]
  },
  {
   "cell_type": "code",
   "execution_count": null,
   "id": "3503b154",
   "metadata": {},
   "outputs": [],
   "source": [
    "The “=” is an assignment operator is used to assign the value on the right to the variable on the left.\n",
    "Eg. >>a = 10\n",
    "    >>b = 'shashi'\n",
    "    \n",
    "    \n",
    "The ‘==’ operator checks whether the two given operands are equal or not. If so, it returns true. Otherwise it returns false.\n",
    "Eg. >> 'shashi' == 'shashi'\n",
    "       It will return true\n"
   ]
  },
  {
   "cell_type": "markdown",
   "id": "97bae8cc",
   "metadata": {},
   "source": [
    "## 7. Identify the three blocks in this code:\n",
    "spam = 0\n",
    "if spam == 10:   (Block 1)\n",
    "    print('eggs')\n",
    "if spam > 5:     (block 2) \n",
    "    print('bacon')\n",
    "else:            (Block 3)\n",
    "   print('ham')\n",
    "   print('spam')\n",
    "   print('spam')\n"
   ]
  },
  {
   "cell_type": "code",
   "execution_count": null,
   "id": "1e9e2dd1",
   "metadata": {},
   "outputs": [],
   "source": [
    "Here we created one variable which name is spam\n",
    "so we stored the value zero in the variable\n",
    "1) so first it will check the variable spam is equal to 10 \n",
    "    so it's not equal to 10 so it's move next\n",
    "2) now the variable spam will check is it greater than 5\n",
    "    so it's not greater than 5 and it's move next\n",
    "3) and it's not going in any if statement so it's evaluate in else\n",
    "\n",
    "output of the program:\n",
    "    ham\n",
    "    spam\n",
    "    spam\n",
    "    "
   ]
  },
  {
   "cell_type": "markdown",
   "id": "1f77f2fa",
   "metadata": {},
   "source": [
    "## 8. Write code that prints Hello if 1 is stored in spam, prints Howdy if 2 is stored in spam, and prints Greetings! if anything else is stored in spam."
   ]
  },
  {
   "cell_type": "code",
   "execution_count": null,
   "id": "ea66e7df",
   "metadata": {},
   "outputs": [],
   "source": [
    "spam=int(input())\n",
    "if spam==1:\n",
    "    print('Hello')\n",
    "elif spam==2:\n",
    "    print('Howdy')\n",
    "else:\n",
    "    print('Greetings!')"
   ]
  },
  {
   "cell_type": "markdown",
   "id": "073f9979",
   "metadata": {},
   "source": [
    "## 9.If your programme is stuck in an endless loop, what keys you’ll press?"
   ]
  },
  {
   "cell_type": "code",
   "execution_count": null,
   "id": "629c971f",
   "metadata": {},
   "outputs": [],
   "source": [
    "If the programme is stuck is an endless loop then we press ctrl + c"
   ]
  },
  {
   "cell_type": "markdown",
   "id": "1ac2f3c3",
   "metadata": {},
   "source": [
    "## 10. How can you tell the difference between break and continue?"
   ]
  },
  {
   "cell_type": "code",
   "execution_count": null,
   "id": "9d04ed5b",
   "metadata": {},
   "outputs": [],
   "source": [
    "break >> This statement lets a user exit from an overall loop construct.\n",
    "Eg. \n",
    "for i in range(1,11):\n",
    "    if i==6:\n",
    "        break\n",
    "    print(i)\n",
    "output>> 1,2,3,4,5\n",
    "\n",
    "continue >> It does not let a user make an exit from an overall loop construct.\n",
    "Eg.\n",
    "for i in range(1,11):\n",
    "    if i==6:\n",
    "        continue\n",
    "    print(i)\n",
    "output >> 1,2,3,4,5,6,7,8,9,10\n"
   ]
  },
  {
   "cell_type": "markdown",
   "id": "645ea934",
   "metadata": {},
   "source": [
    "## 11. In a for loop, what is the difference between range(10), range(0, 10), and range(0, 10, 1)?"
   ]
  },
  {
   "cell_type": "code",
   "execution_count": null,
   "id": "652701bc",
   "metadata": {},
   "outputs": [],
   "source": [
    "for i in range()"
   ]
  },
  {
   "cell_type": "code",
   "execution_count": null,
   "id": "19e6d5b2",
   "metadata": {},
   "outputs": [],
   "source": [
    "#range(begin,end,step)\n",
    "It takes 3 parameter \n",
    "    begin >> begin is integer no. to start from. Default is zero\n",
    "    end   >> end specifies the ending no. which is calculated as end -1 (it is mandatory parameter)\n",
    "            if we want to print upto n then we want to assign range(n+1)\n",
    "    step  >> step specifies an integer increament(interval). Default is 1\n",
    "    \n",
    "1)range(10)\n",
    "        >> Here only mandatory parameter is provided which is end\n",
    "        >> Output 0,1,2,3,4,5,6,7,8,9\n",
    "2)range(0,10):\n",
    "        >> Here the first parameter is step and second one is end\n",
    "        >> Output 0,1,2,3,4,5,6,7,8,9\n",
    "3)range(0,10,1):\n",
    "        >> Here the first parameter is step which is zero\n",
    "                    second parameter is end which is 10\n",
    "                    third parameter is step which is 1\n",
    "        >>Output 0,1,2,3,4,5,6,7,8,9\n"
   ]
  },
  {
   "cell_type": "markdown",
   "id": "bed566af",
   "metadata": {},
   "source": [
    "## 12. Write a short program that prints the numbers 1 to 10 using a for loop. Then write an equivalent program that prints the numbers 1 to 10 using a while loop."
   ]
  },
  {
   "cell_type": "code",
   "execution_count": null,
   "id": "76c7dd79",
   "metadata": {},
   "outputs": [],
   "source": [
    "#using for loop\n",
    "for i in range(1,11):\n",
    "    print(i)\n",
    "\n",
    "#using while loop\n",
    "i=1\n",
    "while i<=10:\n",
    "    print(i)\n",
    "    i+=1"
   ]
  },
  {
   "cell_type": "markdown",
   "id": "b4f967c1",
   "metadata": {},
   "source": [
    "## 13. If you had a function named bacon() inside a module named spam, how would you call it after importing spam?"
   ]
  },
  {
   "cell_type": "code",
   "execution_count": null,
   "id": "f40d972c",
   "metadata": {},
   "outputs": [],
   "source": [
    "This function can be called with spam.bacon()."
   ]
  }
 ],
 "metadata": {
  "kernelspec": {
   "display_name": "Python 3 (ipykernel)",
   "language": "python",
   "name": "python3"
  },
  "language_info": {
   "codemirror_mode": {
    "name": "ipython",
    "version": 3
   },
   "file_extension": ".py",
   "mimetype": "text/x-python",
   "name": "python",
   "nbconvert_exporter": "python",
   "pygments_lexer": "ipython3",
   "version": "3.9.12"
  }
 },
 "nbformat": 4,
 "nbformat_minor": 5
}
